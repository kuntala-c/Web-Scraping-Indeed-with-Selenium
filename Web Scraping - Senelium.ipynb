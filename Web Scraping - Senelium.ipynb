{
 "cells": [
  {
   "cell_type": "code",
   "execution_count": 1,
   "id": "dbd248b4",
   "metadata": {},
   "outputs": [],
   "source": [
    "# Import necessary library\n",
    "\n",
    "from selenium.webdriver.common.by import By\n",
    "from selenium import webdriver\n",
    "from selenium.webdriver.common.keys import Keys\n",
    "from selenium.webdriver.support.ui import WebDriverWait\n",
    "from selenium.webdriver.support import expected_conditions as EC\n",
    "from webdriver_manager.chrome import ChromeDriverManager\n",
    "from selenium import webdriver\n",
    "from selenium.webdriver.chrome.options import Options\n",
    "\n",
    "#specify driver path\n",
    "#DRIVER_PATH = r'C:\\Users\\khoip\\AppData\\Local\\Google\\Chrome\\User Data\\Default\\chromedriver'\n",
    "#driver = webdriver.Chrome(executable_path = DRIVER_PATH)\n",
    "#driver = webdriver.Chrome(ChromeDriverManager().install())\n"
   ]
  },
  {
   "cell_type": "code",
   "execution_count": 2,
   "id": "473f9495",
   "metadata": {},
   "outputs": [
    {
     "name": "stderr",
     "output_type": "stream",
     "text": [
      "<ipython-input-2-6a112e6e1836>:6: DeprecationWarning: executable_path has been deprecated, please pass in a Service object\n",
      "  driver = webdriver.Chrome(chrome_options=options, executable_path=r'C:\\Users\\khoip\\AppData\\Local\\Google\\Chrome\\User Data\\Default\\chromedriver.exe')\n",
      "<ipython-input-2-6a112e6e1836>:6: DeprecationWarning: use options instead of chrome_options\n",
      "  driver = webdriver.Chrome(chrome_options=options, executable_path=r'C:\\Users\\khoip\\AppData\\Local\\Google\\Chrome\\User Data\\Default\\chromedriver.exe')\n"
     ]
    },
    {
     "name": "stdout",
     "output_type": "stream",
     "text": [
      "Page Title is : Data Scientist Jobs in London - 2021 | Indeed.com\n"
     ]
    }
   ],
   "source": [
    "# clarify path and create driver\n",
    "# launch page to check if it works\n",
    "\n",
    "options = Options()\n",
    "options.add_argument(\"start-maximized\")\n",
    "driver = webdriver.Chrome(chrome_options=options, executable_path=r'C:\\Users\\khoip\\AppData\\Local\\Google\\Chrome\\User Data\\Default\\chromedriver.exe')\n",
    "driver.get('https://uk.indeed.com/jobs?q=data+scientist&l=London,+Greater+London&start=0')\n",
    "print(\"Page Title is : %s\" %driver.title)"
   ]
  },
  {
   "cell_type": "code",
   "execution_count": 3,
   "id": "c8292949",
   "metadata": {
    "scrolled": true
   },
   "outputs": [
    {
     "name": "stderr",
     "output_type": "stream",
     "text": [
      "<ipython-input-3-53dcc3fa682d>:15: DeprecationWarning: find_elements_by_* commands are deprecated. Please use find_elements() instead\n",
      "  job_card = driver.find_elements_by_xpath('//div[contains(@class,\"job_seen_beacon\")]')\n",
      "C:\\Users\\khoip\\anaconda3\\lib\\site-packages\\selenium\\webdriver\\remote\\webelement.py:393: UserWarning: find_element_by_* commands are deprecated. Please use find_element() instead\n",
      "  warnings.warn(\"find_element_by_* commands are deprecated. Please use find_element() instead\")\n",
      "C:\\Users\\khoip\\anaconda3\\lib\\site-packages\\selenium\\webdriver\\remote\\webelement.py:341: UserWarning: find_element_by_* commands are deprecated. Please use find_element() instead\n",
      "  warnings.warn(\"find_element_by_* commands are deprecated. Please use find_element() instead\")\n"
     ]
    }
   ],
   "source": [
    "#let the driver wait 3 seconds to locate the element before exiting out\n",
    "driver.implicitly_wait(3) \n",
    "\n",
    "titles=[]\n",
    "companies=[]\n",
    "locations=[]\n",
    "links =[]\n",
    "reviews=[]\n",
    "salaries = []\n",
    "descriptions=[]\n",
    "\n",
    "\n",
    "for i in range(0,20):\n",
    "    \n",
    "    job_card = driver.find_elements_by_xpath('//div[contains(@class,\"job_seen_beacon\")]')\n",
    "\n",
    "    for job in job_card:    \n",
    "    #.  Location       \n",
    "        try:\n",
    "            location = job.find_element_by_xpath('.//div[contains(@class,\"companyLocation\")]').text\n",
    "        except:\n",
    "            location = \"None\"\n",
    "        #.  tells only to look at the element       \n",
    "        locations.append(location)\n",
    "    \n",
    "    \n",
    "    #.  Title       \n",
    "        try:\n",
    "            title  = job.find_element_by_tag_name('span').text\n",
    "        except:\n",
    "            title = \"None\"\n",
    "        titles.append(title)\n",
    "\n",
    "    #.  Company name       \n",
    "    companies.append(job.find_element_by_xpath('.//span[@class=\"companyName\"]').text)\n"
   ]
  },
  {
   "cell_type": "code",
   "execution_count": 17,
   "id": "3b6a058b",
   "metadata": {},
   "outputs": [
    {
     "name": "stderr",
     "output_type": "stream",
     "text": [
      "<ipython-input-17-c641d084dca5>:3: DeprecationWarning: find_elements_by_* commands are deprecated. Please use find_elements() instead\n",
      "  job_card = driver.find_elements_by_xpath('//div[contains(@class,\"mosaic mosaic-provider-jobcards mosaic-provider-hydrated\")]')\n"
     ]
    }
   ],
   "source": [
    "# Get link\n",
    "\n",
    "for i in range(0,20):\n",
    "    \n",
    "    job_card = driver.find_elements_by_xpath('//div[contains(@class,\"mosaic mosaic-provider-jobcards mosaic-provider-hydrated\")]')\n",
    "\n",
    "    for job in job_card:\n",
    "    \n",
    "    #.  Title       \n",
    "        link  = job.find_element_by_tag_name('a').get_attribute(name=\"href\")\n",
    "        links.append(link)\n"
   ]
  },
  {
   "cell_type": "code",
   "execution_count": 18,
   "id": "5a47f2e3",
   "metadata": {},
   "outputs": [
    {
     "data": {
      "text/plain": [
       "['https://uk.indeed.comhttps://uk.indeed.com/pagead/clk?mo=r&ad=-6NYlbfkN0CxQlKr4N-gxhxagYSfO_p3DjIG0Frhi5iauBS0K8YXNzGzMcydUX_0YQEo8_6BfjvWLAKxXosBqyrO1S-76AQcTRqkxrZukn8nf7Hxb0xpGi7ue0NaaBkho9k-O30MMGdarEQSH-mYKG6JBM7QTP2KPuF1V9QyrobUW_hNZf2LNkEMKN7WZpChNYFEY5tHep5YTX8Zm-WyNcnPLuIZpEHWOwJky1YbIVMLpv6iRsOltD9t6MC-yN5BfvL2-zi2CtcxV82CWQOHXUo3nKL_U2Nj6-OrhphPmo9vf3eQBCNBZ6hFrsRSoPHp0_kj92dB69QtVTzhdfD3aeyNYcNehwM2AZTRd_GE-oejzH4z16zZNstgqmFvdXD_HqOi_o09wNsR3bDKA40fuBt2RwvgKQYIodzTB8N4MvwCEbH9EYirC_Z-FPIARxH_y8EeXEESNJEVMqMejSdvrEsCz9Et-s2qrKYKpADpMsGGU41gafS56zaxmy6tEdE3HcYmpJBAkt-Di9z3uuF_TnfjQ5GR0wKxKjDBnJCmgKzUNvjjsy1MlN-3qrL30BxCzGf58OjUyjMUzzsrGyK05MwMtalIs4sm&p=0&fvj=0&vjs=3',\n",
       " 'https://uk.indeed.comhttps://uk.indeed.com/pagead/clk?mo=r&ad=-6NYlbfkN0CxQlKr4N-gxhxagYSfO_p3DjIG0Frhi5iauBS0K8YXNzGzMcydUX_0YQEo8_6BfjvWLAKxXosBqyrO1S-76AQcTRqkxrZukn8nf7Hxb0xpGi7ue0NaaBkho9k-O30MMGdarEQSH-mYKG6JBM7QTP2KPuF1V9QyrobUW_hNZf2LNkEMKN7WZpChNYFEY5tHep5YTX8Zm-WyNcnPLuIZpEHWOwJky1YbIVMLpv6iRsOltD9t6MC-yN5BfvL2-zi2CtcxV82CWQOHXUo3nKL_U2Nj6-OrhphPmo9vf3eQBCNBZ6hFrsRSoPHp0_kj92dB69QtVTzhdfD3aeyNYcNehwM2AZTRd_GE-oejzH4z16zZNstgqmFvdXD_HqOi_o09wNsR3bDKA40fuBt2RwvgKQYIodzTB8N4MvwCEbH9EYirC_Z-FPIARxH_y8EeXEESNJEVMqMejSdvrEsCz9Et-s2qrKYKpADpMsGGU41gafS56zaxmy6tEdE3HcYmpJBAkt-Di9z3uuF_TnfjQ5GR0wKxKjDBnJCmgKzUNvjjsy1MlN-3qrL30BxCzGf58OjUyjMUzzsrGyK05MwMtalIs4sm&p=0&fvj=0&vjs=3',\n",
       " 'https://uk.indeed.comhttps://uk.indeed.com/pagead/clk?mo=r&ad=-6NYlbfkN0CxQlKr4N-gxhxagYSfO_p3DjIG0Frhi5iauBS0K8YXNzGzMcydUX_0YQEo8_6BfjvWLAKxXosBqyrO1S-76AQcTRqkxrZukn8nf7Hxb0xpGi7ue0NaaBkho9k-O30MMGdarEQSH-mYKG6JBM7QTP2KPuF1V9QyrobUW_hNZf2LNkEMKN7WZpChNYFEY5tHep5YTX8Zm-WyNcnPLuIZpEHWOwJky1YbIVMLpv6iRsOltD9t6MC-yN5BfvL2-zi2CtcxV82CWQOHXUo3nKL_U2Nj6-OrhphPmo9vf3eQBCNBZ6hFrsRSoPHp0_kj92dB69QtVTzhdfD3aeyNYcNehwM2AZTRd_GE-oejzH4z16zZNstgqmFvdXD_HqOi_o09wNsR3bDKA40fuBt2RwvgKQYIodzTB8N4MvwCEbH9EYirC_Z-FPIARxH_y8EeXEESNJEVMqMejSdvrEsCz9Et-s2qrKYKpADpMsGGU41gafS56zaxmy6tEdE3HcYmpJBAkt-Di9z3uuF_TnfjQ5GR0wKxKjDBnJCmgKzUNvjjsy1MlN-3qrL30BxCzGf58OjUyjMUzzsrGyK05MwMtalIs4sm&p=0&fvj=0&vjs=3',\n",
       " 'https://uk.indeed.comhttps://uk.indeed.com/pagead/clk?mo=r&ad=-6NYlbfkN0CxQlKr4N-gxhxagYSfO_p3DjIG0Frhi5iauBS0K8YXNzGzMcydUX_0YQEo8_6BfjvWLAKxXosBqyrO1S-76AQcTRqkxrZukn8nf7Hxb0xpGi7ue0NaaBkho9k-O30MMGdarEQSH-mYKG6JBM7QTP2KPuF1V9QyrobUW_hNZf2LNkEMKN7WZpChNYFEY5tHep5YTX8Zm-WyNcnPLuIZpEHWOwJky1YbIVMLpv6iRsOltD9t6MC-yN5BfvL2-zi2CtcxV82CWQOHXUo3nKL_U2Nj6-OrhphPmo9vf3eQBCNBZ6hFrsRSoPHp0_kj92dB69QtVTzhdfD3aeyNYcNehwM2AZTRd_GE-oejzH4z16zZNstgqmFvdXD_HqOi_o09wNsR3bDKA40fuBt2RwvgKQYIodzTB8N4MvwCEbH9EYirC_Z-FPIARxH_y8EeXEESNJEVMqMejSdvrEsCz9Et-s2qrKYKpADpMsGGU41gafS56zaxmy6tEdE3HcYmpJBAkt-Di9z3uuF_TnfjQ5GR0wKxKjDBnJCmgKzUNvjjsy1MlN-3qrL30BxCzGf58OjUyjMUzzsrGyK05MwMtalIs4sm&p=0&fvj=0&vjs=3',\n",
       " 'https://uk.indeed.comhttps://uk.indeed.com/pagead/clk?mo=r&ad=-6NYlbfkN0CxQlKr4N-gxhxagYSfO_p3DjIG0Frhi5iauBS0K8YXNzGzMcydUX_0YQEo8_6BfjvWLAKxXosBqyrO1S-76AQcTRqkxrZukn8nf7Hxb0xpGi7ue0NaaBkho9k-O30MMGdarEQSH-mYKG6JBM7QTP2KPuF1V9QyrobUW_hNZf2LNkEMKN7WZpChNYFEY5tHep5YTX8Zm-WyNcnPLuIZpEHWOwJky1YbIVMLpv6iRsOltD9t6MC-yN5BfvL2-zi2CtcxV82CWQOHXUo3nKL_U2Nj6-OrhphPmo9vf3eQBCNBZ6hFrsRSoPHp0_kj92dB69QtVTzhdfD3aeyNYcNehwM2AZTRd_GE-oejzH4z16zZNstgqmFvdXD_HqOi_o09wNsR3bDKA40fuBt2RwvgKQYIodzTB8N4MvwCEbH9EYirC_Z-FPIARxH_y8EeXEESNJEVMqMejSdvrEsCz9Et-s2qrKYKpADpMsGGU41gafS56zaxmy6tEdE3HcYmpJBAkt-Di9z3uuF_TnfjQ5GR0wKxKjDBnJCmgKzUNvjjsy1MlN-3qrL30BxCzGf58OjUyjMUzzsrGyK05MwMtalIs4sm&p=0&fvj=0&vjs=3',\n",
       " 'https://uk.indeed.comhttps://uk.indeed.com/pagead/clk?mo=r&ad=-6NYlbfkN0CxQlKr4N-gxhxagYSfO_p3DjIG0Frhi5iauBS0K8YXNzGzMcydUX_0YQEo8_6BfjvWLAKxXosBqyrO1S-76AQcTRqkxrZukn8nf7Hxb0xpGi7ue0NaaBkho9k-O30MMGdarEQSH-mYKG6JBM7QTP2KPuF1V9QyrobUW_hNZf2LNkEMKN7WZpChNYFEY5tHep5YTX8Zm-WyNcnPLuIZpEHWOwJky1YbIVMLpv6iRsOltD9t6MC-yN5BfvL2-zi2CtcxV82CWQOHXUo3nKL_U2Nj6-OrhphPmo9vf3eQBCNBZ6hFrsRSoPHp0_kj92dB69QtVTzhdfD3aeyNYcNehwM2AZTRd_GE-oejzH4z16zZNstgqmFvdXD_HqOi_o09wNsR3bDKA40fuBt2RwvgKQYIodzTB8N4MvwCEbH9EYirC_Z-FPIARxH_y8EeXEESNJEVMqMejSdvrEsCz9Et-s2qrKYKpADpMsGGU41gafS56zaxmy6tEdE3HcYmpJBAkt-Di9z3uuF_TnfjQ5GR0wKxKjDBnJCmgKzUNvjjsy1MlN-3qrL30BxCzGf58OjUyjMUzzsrGyK05MwMtalIs4sm&p=0&fvj=0&vjs=3',\n",
       " 'https://uk.indeed.comhttps://uk.indeed.com/pagead/clk?mo=r&ad=-6NYlbfkN0CxQlKr4N-gxhxagYSfO_p3DjIG0Frhi5iauBS0K8YXNzGzMcydUX_0YQEo8_6BfjvWLAKxXosBqyrO1S-76AQcTRqkxrZukn8nf7Hxb0xpGi7ue0NaaBkho9k-O30MMGdarEQSH-mYKG6JBM7QTP2KPuF1V9QyrobUW_hNZf2LNkEMKN7WZpChNYFEY5tHep5YTX8Zm-WyNcnPLuIZpEHWOwJky1YbIVMLpv6iRsOltD9t6MC-yN5BfvL2-zi2CtcxV82CWQOHXUo3nKL_U2Nj6-OrhphPmo9vf3eQBCNBZ6hFrsRSoPHp0_kj92dB69QtVTzhdfD3aeyNYcNehwM2AZTRd_GE-oejzH4z16zZNstgqmFvdXD_HqOi_o09wNsR3bDKA40fuBt2RwvgKQYIodzTB8N4MvwCEbH9EYirC_Z-FPIARxH_y8EeXEESNJEVMqMejSdvrEsCz9Et-s2qrKYKpADpMsGGU41gafS56zaxmy6tEdE3HcYmpJBAkt-Di9z3uuF_TnfjQ5GR0wKxKjDBnJCmgKzUNvjjsy1MlN-3qrL30BxCzGf58OjUyjMUzzsrGyK05MwMtalIs4sm&p=0&fvj=0&vjs=3',\n",
       " 'https://uk.indeed.comhttps://uk.indeed.com/pagead/clk?mo=r&ad=-6NYlbfkN0CxQlKr4N-gxhxagYSfO_p3DjIG0Frhi5iauBS0K8YXNzGzMcydUX_0YQEo8_6BfjvWLAKxXosBqyrO1S-76AQcTRqkxrZukn8nf7Hxb0xpGi7ue0NaaBkho9k-O30MMGdarEQSH-mYKG6JBM7QTP2KPuF1V9QyrobUW_hNZf2LNkEMKN7WZpChNYFEY5tHep5YTX8Zm-WyNcnPLuIZpEHWOwJky1YbIVMLpv6iRsOltD9t6MC-yN5BfvL2-zi2CtcxV82CWQOHXUo3nKL_U2Nj6-OrhphPmo9vf3eQBCNBZ6hFrsRSoPHp0_kj92dB69QtVTzhdfD3aeyNYcNehwM2AZTRd_GE-oejzH4z16zZNstgqmFvdXD_HqOi_o09wNsR3bDKA40fuBt2RwvgKQYIodzTB8N4MvwCEbH9EYirC_Z-FPIARxH_y8EeXEESNJEVMqMejSdvrEsCz9Et-s2qrKYKpADpMsGGU41gafS56zaxmy6tEdE3HcYmpJBAkt-Di9z3uuF_TnfjQ5GR0wKxKjDBnJCmgKzUNvjjsy1MlN-3qrL30BxCzGf58OjUyjMUzzsrGyK05MwMtalIs4sm&p=0&fvj=0&vjs=3',\n",
       " 'https://uk.indeed.comhttps://uk.indeed.com/pagead/clk?mo=r&ad=-6NYlbfkN0CxQlKr4N-gxhxagYSfO_p3DjIG0Frhi5iauBS0K8YXNzGzMcydUX_0YQEo8_6BfjvWLAKxXosBqyrO1S-76AQcTRqkxrZukn8nf7Hxb0xpGi7ue0NaaBkho9k-O30MMGdarEQSH-mYKG6JBM7QTP2KPuF1V9QyrobUW_hNZf2LNkEMKN7WZpChNYFEY5tHep5YTX8Zm-WyNcnPLuIZpEHWOwJky1YbIVMLpv6iRsOltD9t6MC-yN5BfvL2-zi2CtcxV82CWQOHXUo3nKL_U2Nj6-OrhphPmo9vf3eQBCNBZ6hFrsRSoPHp0_kj92dB69QtVTzhdfD3aeyNYcNehwM2AZTRd_GE-oejzH4z16zZNstgqmFvdXD_HqOi_o09wNsR3bDKA40fuBt2RwvgKQYIodzTB8N4MvwCEbH9EYirC_Z-FPIARxH_y8EeXEESNJEVMqMejSdvrEsCz9Et-s2qrKYKpADpMsGGU41gafS56zaxmy6tEdE3HcYmpJBAkt-Di9z3uuF_TnfjQ5GR0wKxKjDBnJCmgKzUNvjjsy1MlN-3qrL30BxCzGf58OjUyjMUzzsrGyK05MwMtalIs4sm&p=0&fvj=0&vjs=3',\n",
       " 'https://uk.indeed.comhttps://uk.indeed.com/pagead/clk?mo=r&ad=-6NYlbfkN0CxQlKr4N-gxhxagYSfO_p3DjIG0Frhi5iauBS0K8YXNzGzMcydUX_0YQEo8_6BfjvWLAKxXosBqyrO1S-76AQcTRqkxrZukn8nf7Hxb0xpGi7ue0NaaBkho9k-O30MMGdarEQSH-mYKG6JBM7QTP2KPuF1V9QyrobUW_hNZf2LNkEMKN7WZpChNYFEY5tHep5YTX8Zm-WyNcnPLuIZpEHWOwJky1YbIVMLpv6iRsOltD9t6MC-yN5BfvL2-zi2CtcxV82CWQOHXUo3nKL_U2Nj6-OrhphPmo9vf3eQBCNBZ6hFrsRSoPHp0_kj92dB69QtVTzhdfD3aeyNYcNehwM2AZTRd_GE-oejzH4z16zZNstgqmFvdXD_HqOi_o09wNsR3bDKA40fuBt2RwvgKQYIodzTB8N4MvwCEbH9EYirC_Z-FPIARxH_y8EeXEESNJEVMqMejSdvrEsCz9Et-s2qrKYKpADpMsGGU41gafS56zaxmy6tEdE3HcYmpJBAkt-Di9z3uuF_TnfjQ5GR0wKxKjDBnJCmgKzUNvjjsy1MlN-3qrL30BxCzGf58OjUyjMUzzsrGyK05MwMtalIs4sm&p=0&fvj=0&vjs=3',\n",
       " 'https://uk.indeed.comhttps://uk.indeed.com/pagead/clk?mo=r&ad=-6NYlbfkN0CxQlKr4N-gxhxagYSfO_p3DjIG0Frhi5iauBS0K8YXNzGzMcydUX_0YQEo8_6BfjvWLAKxXosBqyrO1S-76AQcTRqkxrZukn8nf7Hxb0xpGi7ue0NaaBkho9k-O30MMGdarEQSH-mYKG6JBM7QTP2KPuF1V9QyrobUW_hNZf2LNkEMKN7WZpChNYFEY5tHep5YTX8Zm-WyNcnPLuIZpEHWOwJky1YbIVMLpv6iRsOltD9t6MC-yN5BfvL2-zi2CtcxV82CWQOHXUo3nKL_U2Nj6-OrhphPmo9vf3eQBCNBZ6hFrsRSoPHp0_kj92dB69QtVTzhdfD3aeyNYcNehwM2AZTRd_GE-oejzH4z16zZNstgqmFvdXD_HqOi_o09wNsR3bDKA40fuBt2RwvgKQYIodzTB8N4MvwCEbH9EYirC_Z-FPIARxH_y8EeXEESNJEVMqMejSdvrEsCz9Et-s2qrKYKpADpMsGGU41gafS56zaxmy6tEdE3HcYmpJBAkt-Di9z3uuF_TnfjQ5GR0wKxKjDBnJCmgKzUNvjjsy1MlN-3qrL30BxCzGf58OjUyjMUzzsrGyK05MwMtalIs4sm&p=0&fvj=0&vjs=3',\n",
       " 'https://uk.indeed.comhttps://uk.indeed.com/pagead/clk?mo=r&ad=-6NYlbfkN0CxQlKr4N-gxhxagYSfO_p3DjIG0Frhi5iauBS0K8YXNzGzMcydUX_0YQEo8_6BfjvWLAKxXosBqyrO1S-76AQcTRqkxrZukn8nf7Hxb0xpGi7ue0NaaBkho9k-O30MMGdarEQSH-mYKG6JBM7QTP2KPuF1V9QyrobUW_hNZf2LNkEMKN7WZpChNYFEY5tHep5YTX8Zm-WyNcnPLuIZpEHWOwJky1YbIVMLpv6iRsOltD9t6MC-yN5BfvL2-zi2CtcxV82CWQOHXUo3nKL_U2Nj6-OrhphPmo9vf3eQBCNBZ6hFrsRSoPHp0_kj92dB69QtVTzhdfD3aeyNYcNehwM2AZTRd_GE-oejzH4z16zZNstgqmFvdXD_HqOi_o09wNsR3bDKA40fuBt2RwvgKQYIodzTB8N4MvwCEbH9EYirC_Z-FPIARxH_y8EeXEESNJEVMqMejSdvrEsCz9Et-s2qrKYKpADpMsGGU41gafS56zaxmy6tEdE3HcYmpJBAkt-Di9z3uuF_TnfjQ5GR0wKxKjDBnJCmgKzUNvjjsy1MlN-3qrL30BxCzGf58OjUyjMUzzsrGyK05MwMtalIs4sm&p=0&fvj=0&vjs=3',\n",
       " 'https://uk.indeed.comhttps://uk.indeed.com/pagead/clk?mo=r&ad=-6NYlbfkN0CxQlKr4N-gxhxagYSfO_p3DjIG0Frhi5iauBS0K8YXNzGzMcydUX_0YQEo8_6BfjvWLAKxXosBqyrO1S-76AQcTRqkxrZukn8nf7Hxb0xpGi7ue0NaaBkho9k-O30MMGdarEQSH-mYKG6JBM7QTP2KPuF1V9QyrobUW_hNZf2LNkEMKN7WZpChNYFEY5tHep5YTX8Zm-WyNcnPLuIZpEHWOwJky1YbIVMLpv6iRsOltD9t6MC-yN5BfvL2-zi2CtcxV82CWQOHXUo3nKL_U2Nj6-OrhphPmo9vf3eQBCNBZ6hFrsRSoPHp0_kj92dB69QtVTzhdfD3aeyNYcNehwM2AZTRd_GE-oejzH4z16zZNstgqmFvdXD_HqOi_o09wNsR3bDKA40fuBt2RwvgKQYIodzTB8N4MvwCEbH9EYirC_Z-FPIARxH_y8EeXEESNJEVMqMejSdvrEsCz9Et-s2qrKYKpADpMsGGU41gafS56zaxmy6tEdE3HcYmpJBAkt-Di9z3uuF_TnfjQ5GR0wKxKjDBnJCmgKzUNvjjsy1MlN-3qrL30BxCzGf58OjUyjMUzzsrGyK05MwMtalIs4sm&p=0&fvj=0&vjs=3',\n",
       " 'https://uk.indeed.comhttps://uk.indeed.com/pagead/clk?mo=r&ad=-6NYlbfkN0CxQlKr4N-gxhxagYSfO_p3DjIG0Frhi5iauBS0K8YXNzGzMcydUX_0YQEo8_6BfjvWLAKxXosBqyrO1S-76AQcTRqkxrZukn8nf7Hxb0xpGi7ue0NaaBkho9k-O30MMGdarEQSH-mYKG6JBM7QTP2KPuF1V9QyrobUW_hNZf2LNkEMKN7WZpChNYFEY5tHep5YTX8Zm-WyNcnPLuIZpEHWOwJky1YbIVMLpv6iRsOltD9t6MC-yN5BfvL2-zi2CtcxV82CWQOHXUo3nKL_U2Nj6-OrhphPmo9vf3eQBCNBZ6hFrsRSoPHp0_kj92dB69QtVTzhdfD3aeyNYcNehwM2AZTRd_GE-oejzH4z16zZNstgqmFvdXD_HqOi_o09wNsR3bDKA40fuBt2RwvgKQYIodzTB8N4MvwCEbH9EYirC_Z-FPIARxH_y8EeXEESNJEVMqMejSdvrEsCz9Et-s2qrKYKpADpMsGGU41gafS56zaxmy6tEdE3HcYmpJBAkt-Di9z3uuF_TnfjQ5GR0wKxKjDBnJCmgKzUNvjjsy1MlN-3qrL30BxCzGf58OjUyjMUzzsrGyK05MwMtalIs4sm&p=0&fvj=0&vjs=3',\n",
       " 'https://uk.indeed.comhttps://uk.indeed.com/pagead/clk?mo=r&ad=-6NYlbfkN0CxQlKr4N-gxhxagYSfO_p3DjIG0Frhi5iauBS0K8YXNzGzMcydUX_0YQEo8_6BfjvWLAKxXosBqyrO1S-76AQcTRqkxrZukn8nf7Hxb0xpGi7ue0NaaBkho9k-O30MMGdarEQSH-mYKG6JBM7QTP2KPuF1V9QyrobUW_hNZf2LNkEMKN7WZpChNYFEY5tHep5YTX8Zm-WyNcnPLuIZpEHWOwJky1YbIVMLpv6iRsOltD9t6MC-yN5BfvL2-zi2CtcxV82CWQOHXUo3nKL_U2Nj6-OrhphPmo9vf3eQBCNBZ6hFrsRSoPHp0_kj92dB69QtVTzhdfD3aeyNYcNehwM2AZTRd_GE-oejzH4z16zZNstgqmFvdXD_HqOi_o09wNsR3bDKA40fuBt2RwvgKQYIodzTB8N4MvwCEbH9EYirC_Z-FPIARxH_y8EeXEESNJEVMqMejSdvrEsCz9Et-s2qrKYKpADpMsGGU41gafS56zaxmy6tEdE3HcYmpJBAkt-Di9z3uuF_TnfjQ5GR0wKxKjDBnJCmgKzUNvjjsy1MlN-3qrL30BxCzGf58OjUyjMUzzsrGyK05MwMtalIs4sm&p=0&fvj=0&vjs=3',\n",
       " 'https://uk.indeed.comhttps://uk.indeed.com/pagead/clk?mo=r&ad=-6NYlbfkN0CxQlKr4N-gxhxagYSfO_p3DjIG0Frhi5iauBS0K8YXNzGzMcydUX_0YQEo8_6BfjvWLAKxXosBqyrO1S-76AQcTRqkxrZukn8nf7Hxb0xpGi7ue0NaaBkho9k-O30MMGdarEQSH-mYKG6JBM7QTP2KPuF1V9QyrobUW_hNZf2LNkEMKN7WZpChNYFEY5tHep5YTX8Zm-WyNcnPLuIZpEHWOwJky1YbIVMLpv6iRsOltD9t6MC-yN5BfvL2-zi2CtcxV82CWQOHXUo3nKL_U2Nj6-OrhphPmo9vf3eQBCNBZ6hFrsRSoPHp0_kj92dB69QtVTzhdfD3aeyNYcNehwM2AZTRd_GE-oejzH4z16zZNstgqmFvdXD_HqOi_o09wNsR3bDKA40fuBt2RwvgKQYIodzTB8N4MvwCEbH9EYirC_Z-FPIARxH_y8EeXEESNJEVMqMejSdvrEsCz9Et-s2qrKYKpADpMsGGU41gafS56zaxmy6tEdE3HcYmpJBAkt-Di9z3uuF_TnfjQ5GR0wKxKjDBnJCmgKzUNvjjsy1MlN-3qrL30BxCzGf58OjUyjMUzzsrGyK05MwMtalIs4sm&p=0&fvj=0&vjs=3',\n",
       " 'https://uk.indeed.comhttps://uk.indeed.com/pagead/clk?mo=r&ad=-6NYlbfkN0CxQlKr4N-gxhxagYSfO_p3DjIG0Frhi5iauBS0K8YXNzGzMcydUX_0YQEo8_6BfjvWLAKxXosBqyrO1S-76AQcTRqkxrZukn8nf7Hxb0xpGi7ue0NaaBkho9k-O30MMGdarEQSH-mYKG6JBM7QTP2KPuF1V9QyrobUW_hNZf2LNkEMKN7WZpChNYFEY5tHep5YTX8Zm-WyNcnPLuIZpEHWOwJky1YbIVMLpv6iRsOltD9t6MC-yN5BfvL2-zi2CtcxV82CWQOHXUo3nKL_U2Nj6-OrhphPmo9vf3eQBCNBZ6hFrsRSoPHp0_kj92dB69QtVTzhdfD3aeyNYcNehwM2AZTRd_GE-oejzH4z16zZNstgqmFvdXD_HqOi_o09wNsR3bDKA40fuBt2RwvgKQYIodzTB8N4MvwCEbH9EYirC_Z-FPIARxH_y8EeXEESNJEVMqMejSdvrEsCz9Et-s2qrKYKpADpMsGGU41gafS56zaxmy6tEdE3HcYmpJBAkt-Di9z3uuF_TnfjQ5GR0wKxKjDBnJCmgKzUNvjjsy1MlN-3qrL30BxCzGf58OjUyjMUzzsrGyK05MwMtalIs4sm&p=0&fvj=0&vjs=3',\n",
       " 'https://uk.indeed.comhttps://uk.indeed.com/pagead/clk?mo=r&ad=-6NYlbfkN0CxQlKr4N-gxhxagYSfO_p3DjIG0Frhi5iauBS0K8YXNzGzMcydUX_0YQEo8_6BfjvWLAKxXosBqyrO1S-76AQcTRqkxrZukn8nf7Hxb0xpGi7ue0NaaBkho9k-O30MMGdarEQSH-mYKG6JBM7QTP2KPuF1V9QyrobUW_hNZf2LNkEMKN7WZpChNYFEY5tHep5YTX8Zm-WyNcnPLuIZpEHWOwJky1YbIVMLpv6iRsOltD9t6MC-yN5BfvL2-zi2CtcxV82CWQOHXUo3nKL_U2Nj6-OrhphPmo9vf3eQBCNBZ6hFrsRSoPHp0_kj92dB69QtVTzhdfD3aeyNYcNehwM2AZTRd_GE-oejzH4z16zZNstgqmFvdXD_HqOi_o09wNsR3bDKA40fuBt2RwvgKQYIodzTB8N4MvwCEbH9EYirC_Z-FPIARxH_y8EeXEESNJEVMqMejSdvrEsCz9Et-s2qrKYKpADpMsGGU41gafS56zaxmy6tEdE3HcYmpJBAkt-Di9z3uuF_TnfjQ5GR0wKxKjDBnJCmgKzUNvjjsy1MlN-3qrL30BxCzGf58OjUyjMUzzsrGyK05MwMtalIs4sm&p=0&fvj=0&vjs=3',\n",
       " 'https://uk.indeed.comhttps://uk.indeed.com/pagead/clk?mo=r&ad=-6NYlbfkN0CxQlKr4N-gxhxagYSfO_p3DjIG0Frhi5iauBS0K8YXNzGzMcydUX_0YQEo8_6BfjvWLAKxXosBqyrO1S-76AQcTRqkxrZukn8nf7Hxb0xpGi7ue0NaaBkho9k-O30MMGdarEQSH-mYKG6JBM7QTP2KPuF1V9QyrobUW_hNZf2LNkEMKN7WZpChNYFEY5tHep5YTX8Zm-WyNcnPLuIZpEHWOwJky1YbIVMLpv6iRsOltD9t6MC-yN5BfvL2-zi2CtcxV82CWQOHXUo3nKL_U2Nj6-OrhphPmo9vf3eQBCNBZ6hFrsRSoPHp0_kj92dB69QtVTzhdfD3aeyNYcNehwM2AZTRd_GE-oejzH4z16zZNstgqmFvdXD_HqOi_o09wNsR3bDKA40fuBt2RwvgKQYIodzTB8N4MvwCEbH9EYirC_Z-FPIARxH_y8EeXEESNJEVMqMejSdvrEsCz9Et-s2qrKYKpADpMsGGU41gafS56zaxmy6tEdE3HcYmpJBAkt-Di9z3uuF_TnfjQ5GR0wKxKjDBnJCmgKzUNvjjsy1MlN-3qrL30BxCzGf58OjUyjMUzzsrGyK05MwMtalIs4sm&p=0&fvj=0&vjs=3',\n",
       " 'https://uk.indeed.comhttps://uk.indeed.com/pagead/clk?mo=r&ad=-6NYlbfkN0CxQlKr4N-gxhxagYSfO_p3DjIG0Frhi5iauBS0K8YXNzGzMcydUX_0YQEo8_6BfjvWLAKxXosBqyrO1S-76AQcTRqkxrZukn8nf7Hxb0xpGi7ue0NaaBkho9k-O30MMGdarEQSH-mYKG6JBM7QTP2KPuF1V9QyrobUW_hNZf2LNkEMKN7WZpChNYFEY5tHep5YTX8Zm-WyNcnPLuIZpEHWOwJky1YbIVMLpv6iRsOltD9t6MC-yN5BfvL2-zi2CtcxV82CWQOHXUo3nKL_U2Nj6-OrhphPmo9vf3eQBCNBZ6hFrsRSoPHp0_kj92dB69QtVTzhdfD3aeyNYcNehwM2AZTRd_GE-oejzH4z16zZNstgqmFvdXD_HqOi_o09wNsR3bDKA40fuBt2RwvgKQYIodzTB8N4MvwCEbH9EYirC_Z-FPIARxH_y8EeXEESNJEVMqMejSdvrEsCz9Et-s2qrKYKpADpMsGGU41gafS56zaxmy6tEdE3HcYmpJBAkt-Di9z3uuF_TnfjQ5GR0wKxKjDBnJCmgKzUNvjjsy1MlN-3qrL30BxCzGf58OjUyjMUzzsrGyK05MwMtalIs4sm&p=0&fvj=0&vjs=3',\n",
       " 'https://uk.indeed.com/pagead/clk?mo=r&ad=-6NYlbfkN0CxQlKr4N-gxhxagYSfO_p3DjIG0Frhi5iauBS0K8YXNzGzMcydUX_0YQEo8_6BfjvWLAKxXosBqyrO1S-76AQcTRqkxrZukn8nf7Hxb0xpGi7ue0NaaBkho9k-O30MMGdarEQSH-mYKG6JBM7QTP2KPuF1V9QyrobUW_hNZf2LNkEMKN7WZpChNYFEY5tHep5YTX8Zm-WyNcnPLuIZpEHWOwJky1YbIVMLpv6iRsOltD9t6MC-yN5BfvL2-zi2CtcxV82CWQOHXUo3nKL_U2Nj6-OrhphPmo9vf3eQBCNBZ6hFrsRSoPHp0_kj92dB69QtVTzhdfD3aeyNYcNehwM2AZTRd_GE-oejzH4z16zZNstgqmFvdXD_HqOi_o09wNsR3bDKA40fuBt2RwvgKQYIodzTB8N4MvwCEbH9EYirC_Z-FPIARxH_y8EeXEESNJEVMqMejSdvrEsCz9Et-s2qrKYKpADpMsGGU41gafS56zaxmy6tEdE3HcYmpJBAkt-Di9z3uuF_TnfjQ5GR0wKxKjDBnJCmgKzUNvjjsy1MlN-3qrL30BxCzGf58OjUyjMUzzsrGyK05MwMtalIs4sm&p=0&fvj=0&vjs=3',\n",
       " 'https://uk.indeed.com/pagead/clk?mo=r&ad=-6NYlbfkN0CxQlKr4N-gxhxagYSfO_p3DjIG0Frhi5iauBS0K8YXNzGzMcydUX_0YQEo8_6BfjvWLAKxXosBqyrO1S-76AQcTRqkxrZukn8nf7Hxb0xpGi7ue0NaaBkho9k-O30MMGdarEQSH-mYKG6JBM7QTP2KPuF1V9QyrobUW_hNZf2LNkEMKN7WZpChNYFEY5tHep5YTX8Zm-WyNcnPLuIZpEHWOwJky1YbIVMLpv6iRsOltD9t6MC-yN5BfvL2-zi2CtcxV82CWQOHXUo3nKL_U2Nj6-OrhphPmo9vf3eQBCNBZ6hFrsRSoPHp0_kj92dB69QtVTzhdfD3aeyNYcNehwM2AZTRd_GE-oejzH4z16zZNstgqmFvdXD_HqOi_o09wNsR3bDKA40fuBt2RwvgKQYIodzTB8N4MvwCEbH9EYirC_Z-FPIARxH_y8EeXEESNJEVMqMejSdvrEsCz9Et-s2qrKYKpADpMsGGU41gafS56zaxmy6tEdE3HcYmpJBAkt-Di9z3uuF_TnfjQ5GR0wKxKjDBnJCmgKzUNvjjsy1MlN-3qrL30BxCzGf58OjUyjMUzzsrGyK05MwMtalIs4sm&p=0&fvj=0&vjs=3',\n",
       " 'https://uk.indeed.com/pagead/clk?mo=r&ad=-6NYlbfkN0CxQlKr4N-gxhxagYSfO_p3DjIG0Frhi5iauBS0K8YXNzGzMcydUX_0YQEo8_6BfjvWLAKxXosBqyrO1S-76AQcTRqkxrZukn8nf7Hxb0xpGi7ue0NaaBkho9k-O30MMGdarEQSH-mYKG6JBM7QTP2KPuF1V9QyrobUW_hNZf2LNkEMKN7WZpChNYFEY5tHep5YTX8Zm-WyNcnPLuIZpEHWOwJky1YbIVMLpv6iRsOltD9t6MC-yN5BfvL2-zi2CtcxV82CWQOHXUo3nKL_U2Nj6-OrhphPmo9vf3eQBCNBZ6hFrsRSoPHp0_kj92dB69QtVTzhdfD3aeyNYcNehwM2AZTRd_GE-oejzH4z16zZNstgqmFvdXD_HqOi_o09wNsR3bDKA40fuBt2RwvgKQYIodzTB8N4MvwCEbH9EYirC_Z-FPIARxH_y8EeXEESNJEVMqMejSdvrEsCz9Et-s2qrKYKpADpMsGGU41gafS56zaxmy6tEdE3HcYmpJBAkt-Di9z3uuF_TnfjQ5GR0wKxKjDBnJCmgKzUNvjjsy1MlN-3qrL30BxCzGf58OjUyjMUzzsrGyK05MwMtalIs4sm&p=0&fvj=0&vjs=3',\n",
       " 'https://uk.indeed.com/pagead/clk?mo=r&ad=-6NYlbfkN0CxQlKr4N-gxhxagYSfO_p3DjIG0Frhi5iauBS0K8YXNzGzMcydUX_0YQEo8_6BfjvWLAKxXosBqyrO1S-76AQcTRqkxrZukn8nf7Hxb0xpGi7ue0NaaBkho9k-O30MMGdarEQSH-mYKG6JBM7QTP2KPuF1V9QyrobUW_hNZf2LNkEMKN7WZpChNYFEY5tHep5YTX8Zm-WyNcnPLuIZpEHWOwJky1YbIVMLpv6iRsOltD9t6MC-yN5BfvL2-zi2CtcxV82CWQOHXUo3nKL_U2Nj6-OrhphPmo9vf3eQBCNBZ6hFrsRSoPHp0_kj92dB69QtVTzhdfD3aeyNYcNehwM2AZTRd_GE-oejzH4z16zZNstgqmFvdXD_HqOi_o09wNsR3bDKA40fuBt2RwvgKQYIodzTB8N4MvwCEbH9EYirC_Z-FPIARxH_y8EeXEESNJEVMqMejSdvrEsCz9Et-s2qrKYKpADpMsGGU41gafS56zaxmy6tEdE3HcYmpJBAkt-Di9z3uuF_TnfjQ5GR0wKxKjDBnJCmgKzUNvjjsy1MlN-3qrL30BxCzGf58OjUyjMUzzsrGyK05MwMtalIs4sm&p=0&fvj=0&vjs=3',\n",
       " 'https://uk.indeed.com/pagead/clk?mo=r&ad=-6NYlbfkN0CxQlKr4N-gxhxagYSfO_p3DjIG0Frhi5iauBS0K8YXNzGzMcydUX_0YQEo8_6BfjvWLAKxXosBqyrO1S-76AQcTRqkxrZukn8nf7Hxb0xpGi7ue0NaaBkho9k-O30MMGdarEQSH-mYKG6JBM7QTP2KPuF1V9QyrobUW_hNZf2LNkEMKN7WZpChNYFEY5tHep5YTX8Zm-WyNcnPLuIZpEHWOwJky1YbIVMLpv6iRsOltD9t6MC-yN5BfvL2-zi2CtcxV82CWQOHXUo3nKL_U2Nj6-OrhphPmo9vf3eQBCNBZ6hFrsRSoPHp0_kj92dB69QtVTzhdfD3aeyNYcNehwM2AZTRd_GE-oejzH4z16zZNstgqmFvdXD_HqOi_o09wNsR3bDKA40fuBt2RwvgKQYIodzTB8N4MvwCEbH9EYirC_Z-FPIARxH_y8EeXEESNJEVMqMejSdvrEsCz9Et-s2qrKYKpADpMsGGU41gafS56zaxmy6tEdE3HcYmpJBAkt-Di9z3uuF_TnfjQ5GR0wKxKjDBnJCmgKzUNvjjsy1MlN-3qrL30BxCzGf58OjUyjMUzzsrGyK05MwMtalIs4sm&p=0&fvj=0&vjs=3',\n",
       " 'https://uk.indeed.com/pagead/clk?mo=r&ad=-6NYlbfkN0CxQlKr4N-gxhxagYSfO_p3DjIG0Frhi5iauBS0K8YXNzGzMcydUX_0YQEo8_6BfjvWLAKxXosBqyrO1S-76AQcTRqkxrZukn8nf7Hxb0xpGi7ue0NaaBkho9k-O30MMGdarEQSH-mYKG6JBM7QTP2KPuF1V9QyrobUW_hNZf2LNkEMKN7WZpChNYFEY5tHep5YTX8Zm-WyNcnPLuIZpEHWOwJky1YbIVMLpv6iRsOltD9t6MC-yN5BfvL2-zi2CtcxV82CWQOHXUo3nKL_U2Nj6-OrhphPmo9vf3eQBCNBZ6hFrsRSoPHp0_kj92dB69QtVTzhdfD3aeyNYcNehwM2AZTRd_GE-oejzH4z16zZNstgqmFvdXD_HqOi_o09wNsR3bDKA40fuBt2RwvgKQYIodzTB8N4MvwCEbH9EYirC_Z-FPIARxH_y8EeXEESNJEVMqMejSdvrEsCz9Et-s2qrKYKpADpMsGGU41gafS56zaxmy6tEdE3HcYmpJBAkt-Di9z3uuF_TnfjQ5GR0wKxKjDBnJCmgKzUNvjjsy1MlN-3qrL30BxCzGf58OjUyjMUzzsrGyK05MwMtalIs4sm&p=0&fvj=0&vjs=3',\n",
       " 'https://uk.indeed.com/pagead/clk?mo=r&ad=-6NYlbfkN0CxQlKr4N-gxhxagYSfO_p3DjIG0Frhi5iauBS0K8YXNzGzMcydUX_0YQEo8_6BfjvWLAKxXosBqyrO1S-76AQcTRqkxrZukn8nf7Hxb0xpGi7ue0NaaBkho9k-O30MMGdarEQSH-mYKG6JBM7QTP2KPuF1V9QyrobUW_hNZf2LNkEMKN7WZpChNYFEY5tHep5YTX8Zm-WyNcnPLuIZpEHWOwJky1YbIVMLpv6iRsOltD9t6MC-yN5BfvL2-zi2CtcxV82CWQOHXUo3nKL_U2Nj6-OrhphPmo9vf3eQBCNBZ6hFrsRSoPHp0_kj92dB69QtVTzhdfD3aeyNYcNehwM2AZTRd_GE-oejzH4z16zZNstgqmFvdXD_HqOi_o09wNsR3bDKA40fuBt2RwvgKQYIodzTB8N4MvwCEbH9EYirC_Z-FPIARxH_y8EeXEESNJEVMqMejSdvrEsCz9Et-s2qrKYKpADpMsGGU41gafS56zaxmy6tEdE3HcYmpJBAkt-Di9z3uuF_TnfjQ5GR0wKxKjDBnJCmgKzUNvjjsy1MlN-3qrL30BxCzGf58OjUyjMUzzsrGyK05MwMtalIs4sm&p=0&fvj=0&vjs=3',\n",
       " 'https://uk.indeed.com/pagead/clk?mo=r&ad=-6NYlbfkN0CxQlKr4N-gxhxagYSfO_p3DjIG0Frhi5iauBS0K8YXNzGzMcydUX_0YQEo8_6BfjvWLAKxXosBqyrO1S-76AQcTRqkxrZukn8nf7Hxb0xpGi7ue0NaaBkho9k-O30MMGdarEQSH-mYKG6JBM7QTP2KPuF1V9QyrobUW_hNZf2LNkEMKN7WZpChNYFEY5tHep5YTX8Zm-WyNcnPLuIZpEHWOwJky1YbIVMLpv6iRsOltD9t6MC-yN5BfvL2-zi2CtcxV82CWQOHXUo3nKL_U2Nj6-OrhphPmo9vf3eQBCNBZ6hFrsRSoPHp0_kj92dB69QtVTzhdfD3aeyNYcNehwM2AZTRd_GE-oejzH4z16zZNstgqmFvdXD_HqOi_o09wNsR3bDKA40fuBt2RwvgKQYIodzTB8N4MvwCEbH9EYirC_Z-FPIARxH_y8EeXEESNJEVMqMejSdvrEsCz9Et-s2qrKYKpADpMsGGU41gafS56zaxmy6tEdE3HcYmpJBAkt-Di9z3uuF_TnfjQ5GR0wKxKjDBnJCmgKzUNvjjsy1MlN-3qrL30BxCzGf58OjUyjMUzzsrGyK05MwMtalIs4sm&p=0&fvj=0&vjs=3',\n",
       " 'https://uk.indeed.com/pagead/clk?mo=r&ad=-6NYlbfkN0CxQlKr4N-gxhxagYSfO_p3DjIG0Frhi5iauBS0K8YXNzGzMcydUX_0YQEo8_6BfjvWLAKxXosBqyrO1S-76AQcTRqkxrZukn8nf7Hxb0xpGi7ue0NaaBkho9k-O30MMGdarEQSH-mYKG6JBM7QTP2KPuF1V9QyrobUW_hNZf2LNkEMKN7WZpChNYFEY5tHep5YTX8Zm-WyNcnPLuIZpEHWOwJky1YbIVMLpv6iRsOltD9t6MC-yN5BfvL2-zi2CtcxV82CWQOHXUo3nKL_U2Nj6-OrhphPmo9vf3eQBCNBZ6hFrsRSoPHp0_kj92dB69QtVTzhdfD3aeyNYcNehwM2AZTRd_GE-oejzH4z16zZNstgqmFvdXD_HqOi_o09wNsR3bDKA40fuBt2RwvgKQYIodzTB8N4MvwCEbH9EYirC_Z-FPIARxH_y8EeXEESNJEVMqMejSdvrEsCz9Et-s2qrKYKpADpMsGGU41gafS56zaxmy6tEdE3HcYmpJBAkt-Di9z3uuF_TnfjQ5GR0wKxKjDBnJCmgKzUNvjjsy1MlN-3qrL30BxCzGf58OjUyjMUzzsrGyK05MwMtalIs4sm&p=0&fvj=0&vjs=3',\n",
       " 'https://uk.indeed.com/pagead/clk?mo=r&ad=-6NYlbfkN0CxQlKr4N-gxhxagYSfO_p3DjIG0Frhi5iauBS0K8YXNzGzMcydUX_0YQEo8_6BfjvWLAKxXosBqyrO1S-76AQcTRqkxrZukn8nf7Hxb0xpGi7ue0NaaBkho9k-O30MMGdarEQSH-mYKG6JBM7QTP2KPuF1V9QyrobUW_hNZf2LNkEMKN7WZpChNYFEY5tHep5YTX8Zm-WyNcnPLuIZpEHWOwJky1YbIVMLpv6iRsOltD9t6MC-yN5BfvL2-zi2CtcxV82CWQOHXUo3nKL_U2Nj6-OrhphPmo9vf3eQBCNBZ6hFrsRSoPHp0_kj92dB69QtVTzhdfD3aeyNYcNehwM2AZTRd_GE-oejzH4z16zZNstgqmFvdXD_HqOi_o09wNsR3bDKA40fuBt2RwvgKQYIodzTB8N4MvwCEbH9EYirC_Z-FPIARxH_y8EeXEESNJEVMqMejSdvrEsCz9Et-s2qrKYKpADpMsGGU41gafS56zaxmy6tEdE3HcYmpJBAkt-Di9z3uuF_TnfjQ5GR0wKxKjDBnJCmgKzUNvjjsy1MlN-3qrL30BxCzGf58OjUyjMUzzsrGyK05MwMtalIs4sm&p=0&fvj=0&vjs=3',\n",
       " 'https://uk.indeed.com/pagead/clk?mo=r&ad=-6NYlbfkN0CxQlKr4N-gxhxagYSfO_p3DjIG0Frhi5iauBS0K8YXNzGzMcydUX_0YQEo8_6BfjvWLAKxXosBqyrO1S-76AQcTRqkxrZukn8nf7Hxb0xpGi7ue0NaaBkho9k-O30MMGdarEQSH-mYKG6JBM7QTP2KPuF1V9QyrobUW_hNZf2LNkEMKN7WZpChNYFEY5tHep5YTX8Zm-WyNcnPLuIZpEHWOwJky1YbIVMLpv6iRsOltD9t6MC-yN5BfvL2-zi2CtcxV82CWQOHXUo3nKL_U2Nj6-OrhphPmo9vf3eQBCNBZ6hFrsRSoPHp0_kj92dB69QtVTzhdfD3aeyNYcNehwM2AZTRd_GE-oejzH4z16zZNstgqmFvdXD_HqOi_o09wNsR3bDKA40fuBt2RwvgKQYIodzTB8N4MvwCEbH9EYirC_Z-FPIARxH_y8EeXEESNJEVMqMejSdvrEsCz9Et-s2qrKYKpADpMsGGU41gafS56zaxmy6tEdE3HcYmpJBAkt-Di9z3uuF_TnfjQ5GR0wKxKjDBnJCmgKzUNvjjsy1MlN-3qrL30BxCzGf58OjUyjMUzzsrGyK05MwMtalIs4sm&p=0&fvj=0&vjs=3',\n",
       " 'https://uk.indeed.com/pagead/clk?mo=r&ad=-6NYlbfkN0CxQlKr4N-gxhxagYSfO_p3DjIG0Frhi5iauBS0K8YXNzGzMcydUX_0YQEo8_6BfjvWLAKxXosBqyrO1S-76AQcTRqkxrZukn8nf7Hxb0xpGi7ue0NaaBkho9k-O30MMGdarEQSH-mYKG6JBM7QTP2KPuF1V9QyrobUW_hNZf2LNkEMKN7WZpChNYFEY5tHep5YTX8Zm-WyNcnPLuIZpEHWOwJky1YbIVMLpv6iRsOltD9t6MC-yN5BfvL2-zi2CtcxV82CWQOHXUo3nKL_U2Nj6-OrhphPmo9vf3eQBCNBZ6hFrsRSoPHp0_kj92dB69QtVTzhdfD3aeyNYcNehwM2AZTRd_GE-oejzH4z16zZNstgqmFvdXD_HqOi_o09wNsR3bDKA40fuBt2RwvgKQYIodzTB8N4MvwCEbH9EYirC_Z-FPIARxH_y8EeXEESNJEVMqMejSdvrEsCz9Et-s2qrKYKpADpMsGGU41gafS56zaxmy6tEdE3HcYmpJBAkt-Di9z3uuF_TnfjQ5GR0wKxKjDBnJCmgKzUNvjjsy1MlN-3qrL30BxCzGf58OjUyjMUzzsrGyK05MwMtalIs4sm&p=0&fvj=0&vjs=3',\n",
       " 'https://uk.indeed.com/pagead/clk?mo=r&ad=-6NYlbfkN0CxQlKr4N-gxhxagYSfO_p3DjIG0Frhi5iauBS0K8YXNzGzMcydUX_0YQEo8_6BfjvWLAKxXosBqyrO1S-76AQcTRqkxrZukn8nf7Hxb0xpGi7ue0NaaBkho9k-O30MMGdarEQSH-mYKG6JBM7QTP2KPuF1V9QyrobUW_hNZf2LNkEMKN7WZpChNYFEY5tHep5YTX8Zm-WyNcnPLuIZpEHWOwJky1YbIVMLpv6iRsOltD9t6MC-yN5BfvL2-zi2CtcxV82CWQOHXUo3nKL_U2Nj6-OrhphPmo9vf3eQBCNBZ6hFrsRSoPHp0_kj92dB69QtVTzhdfD3aeyNYcNehwM2AZTRd_GE-oejzH4z16zZNstgqmFvdXD_HqOi_o09wNsR3bDKA40fuBt2RwvgKQYIodzTB8N4MvwCEbH9EYirC_Z-FPIARxH_y8EeXEESNJEVMqMejSdvrEsCz9Et-s2qrKYKpADpMsGGU41gafS56zaxmy6tEdE3HcYmpJBAkt-Di9z3uuF_TnfjQ5GR0wKxKjDBnJCmgKzUNvjjsy1MlN-3qrL30BxCzGf58OjUyjMUzzsrGyK05MwMtalIs4sm&p=0&fvj=0&vjs=3',\n",
       " 'https://uk.indeed.com/pagead/clk?mo=r&ad=-6NYlbfkN0CxQlKr4N-gxhxagYSfO_p3DjIG0Frhi5iauBS0K8YXNzGzMcydUX_0YQEo8_6BfjvWLAKxXosBqyrO1S-76AQcTRqkxrZukn8nf7Hxb0xpGi7ue0NaaBkho9k-O30MMGdarEQSH-mYKG6JBM7QTP2KPuF1V9QyrobUW_hNZf2LNkEMKN7WZpChNYFEY5tHep5YTX8Zm-WyNcnPLuIZpEHWOwJky1YbIVMLpv6iRsOltD9t6MC-yN5BfvL2-zi2CtcxV82CWQOHXUo3nKL_U2Nj6-OrhphPmo9vf3eQBCNBZ6hFrsRSoPHp0_kj92dB69QtVTzhdfD3aeyNYcNehwM2AZTRd_GE-oejzH4z16zZNstgqmFvdXD_HqOi_o09wNsR3bDKA40fuBt2RwvgKQYIodzTB8N4MvwCEbH9EYirC_Z-FPIARxH_y8EeXEESNJEVMqMejSdvrEsCz9Et-s2qrKYKpADpMsGGU41gafS56zaxmy6tEdE3HcYmpJBAkt-Di9z3uuF_TnfjQ5GR0wKxKjDBnJCmgKzUNvjjsy1MlN-3qrL30BxCzGf58OjUyjMUzzsrGyK05MwMtalIs4sm&p=0&fvj=0&vjs=3',\n",
       " 'https://uk.indeed.com/pagead/clk?mo=r&ad=-6NYlbfkN0CxQlKr4N-gxhxagYSfO_p3DjIG0Frhi5iauBS0K8YXNzGzMcydUX_0YQEo8_6BfjvWLAKxXosBqyrO1S-76AQcTRqkxrZukn8nf7Hxb0xpGi7ue0NaaBkho9k-O30MMGdarEQSH-mYKG6JBM7QTP2KPuF1V9QyrobUW_hNZf2LNkEMKN7WZpChNYFEY5tHep5YTX8Zm-WyNcnPLuIZpEHWOwJky1YbIVMLpv6iRsOltD9t6MC-yN5BfvL2-zi2CtcxV82CWQOHXUo3nKL_U2Nj6-OrhphPmo9vf3eQBCNBZ6hFrsRSoPHp0_kj92dB69QtVTzhdfD3aeyNYcNehwM2AZTRd_GE-oejzH4z16zZNstgqmFvdXD_HqOi_o09wNsR3bDKA40fuBt2RwvgKQYIodzTB8N4MvwCEbH9EYirC_Z-FPIARxH_y8EeXEESNJEVMqMejSdvrEsCz9Et-s2qrKYKpADpMsGGU41gafS56zaxmy6tEdE3HcYmpJBAkt-Di9z3uuF_TnfjQ5GR0wKxKjDBnJCmgKzUNvjjsy1MlN-3qrL30BxCzGf58OjUyjMUzzsrGyK05MwMtalIs4sm&p=0&fvj=0&vjs=3',\n",
       " 'https://uk.indeed.com/pagead/clk?mo=r&ad=-6NYlbfkN0CxQlKr4N-gxhxagYSfO_p3DjIG0Frhi5iauBS0K8YXNzGzMcydUX_0YQEo8_6BfjvWLAKxXosBqyrO1S-76AQcTRqkxrZukn8nf7Hxb0xpGi7ue0NaaBkho9k-O30MMGdarEQSH-mYKG6JBM7QTP2KPuF1V9QyrobUW_hNZf2LNkEMKN7WZpChNYFEY5tHep5YTX8Zm-WyNcnPLuIZpEHWOwJky1YbIVMLpv6iRsOltD9t6MC-yN5BfvL2-zi2CtcxV82CWQOHXUo3nKL_U2Nj6-OrhphPmo9vf3eQBCNBZ6hFrsRSoPHp0_kj92dB69QtVTzhdfD3aeyNYcNehwM2AZTRd_GE-oejzH4z16zZNstgqmFvdXD_HqOi_o09wNsR3bDKA40fuBt2RwvgKQYIodzTB8N4MvwCEbH9EYirC_Z-FPIARxH_y8EeXEESNJEVMqMejSdvrEsCz9Et-s2qrKYKpADpMsGGU41gafS56zaxmy6tEdE3HcYmpJBAkt-Di9z3uuF_TnfjQ5GR0wKxKjDBnJCmgKzUNvjjsy1MlN-3qrL30BxCzGf58OjUyjMUzzsrGyK05MwMtalIs4sm&p=0&fvj=0&vjs=3',\n",
       " 'https://uk.indeed.com/pagead/clk?mo=r&ad=-6NYlbfkN0CxQlKr4N-gxhxagYSfO_p3DjIG0Frhi5iauBS0K8YXNzGzMcydUX_0YQEo8_6BfjvWLAKxXosBqyrO1S-76AQcTRqkxrZukn8nf7Hxb0xpGi7ue0NaaBkho9k-O30MMGdarEQSH-mYKG6JBM7QTP2KPuF1V9QyrobUW_hNZf2LNkEMKN7WZpChNYFEY5tHep5YTX8Zm-WyNcnPLuIZpEHWOwJky1YbIVMLpv6iRsOltD9t6MC-yN5BfvL2-zi2CtcxV82CWQOHXUo3nKL_U2Nj6-OrhphPmo9vf3eQBCNBZ6hFrsRSoPHp0_kj92dB69QtVTzhdfD3aeyNYcNehwM2AZTRd_GE-oejzH4z16zZNstgqmFvdXD_HqOi_o09wNsR3bDKA40fuBt2RwvgKQYIodzTB8N4MvwCEbH9EYirC_Z-FPIARxH_y8EeXEESNJEVMqMejSdvrEsCz9Et-s2qrKYKpADpMsGGU41gafS56zaxmy6tEdE3HcYmpJBAkt-Di9z3uuF_TnfjQ5GR0wKxKjDBnJCmgKzUNvjjsy1MlN-3qrL30BxCzGf58OjUyjMUzzsrGyK05MwMtalIs4sm&p=0&fvj=0&vjs=3',\n",
       " 'https://uk.indeed.com/pagead/clk?mo=r&ad=-6NYlbfkN0CxQlKr4N-gxhxagYSfO_p3DjIG0Frhi5iauBS0K8YXNzGzMcydUX_0YQEo8_6BfjvWLAKxXosBqyrO1S-76AQcTRqkxrZukn8nf7Hxb0xpGi7ue0NaaBkho9k-O30MMGdarEQSH-mYKG6JBM7QTP2KPuF1V9QyrobUW_hNZf2LNkEMKN7WZpChNYFEY5tHep5YTX8Zm-WyNcnPLuIZpEHWOwJky1YbIVMLpv6iRsOltD9t6MC-yN5BfvL2-zi2CtcxV82CWQOHXUo3nKL_U2Nj6-OrhphPmo9vf3eQBCNBZ6hFrsRSoPHp0_kj92dB69QtVTzhdfD3aeyNYcNehwM2AZTRd_GE-oejzH4z16zZNstgqmFvdXD_HqOi_o09wNsR3bDKA40fuBt2RwvgKQYIodzTB8N4MvwCEbH9EYirC_Z-FPIARxH_y8EeXEESNJEVMqMejSdvrEsCz9Et-s2qrKYKpADpMsGGU41gafS56zaxmy6tEdE3HcYmpJBAkt-Di9z3uuF_TnfjQ5GR0wKxKjDBnJCmgKzUNvjjsy1MlN-3qrL30BxCzGf58OjUyjMUzzsrGyK05MwMtalIs4sm&p=0&fvj=0&vjs=3',\n",
       " 'https://uk.indeed.com/pagead/clk?mo=r&ad=-6NYlbfkN0CxQlKr4N-gxhxagYSfO_p3DjIG0Frhi5iauBS0K8YXNzGzMcydUX_0YQEo8_6BfjvWLAKxXosBqyrO1S-76AQcTRqkxrZukn8nf7Hxb0xpGi7ue0NaaBkho9k-O30MMGdarEQSH-mYKG6JBM7QTP2KPuF1V9QyrobUW_hNZf2LNkEMKN7WZpChNYFEY5tHep5YTX8Zm-WyNcnPLuIZpEHWOwJky1YbIVMLpv6iRsOltD9t6MC-yN5BfvL2-zi2CtcxV82CWQOHXUo3nKL_U2Nj6-OrhphPmo9vf3eQBCNBZ6hFrsRSoPHp0_kj92dB69QtVTzhdfD3aeyNYcNehwM2AZTRd_GE-oejzH4z16zZNstgqmFvdXD_HqOi_o09wNsR3bDKA40fuBt2RwvgKQYIodzTB8N4MvwCEbH9EYirC_Z-FPIARxH_y8EeXEESNJEVMqMejSdvrEsCz9Et-s2qrKYKpADpMsGGU41gafS56zaxmy6tEdE3HcYmpJBAkt-Di9z3uuF_TnfjQ5GR0wKxKjDBnJCmgKzUNvjjsy1MlN-3qrL30BxCzGf58OjUyjMUzzsrGyK05MwMtalIs4sm&p=0&fvj=0&vjs=3',\n",
       " 'https://uk.indeed.com/pagead/clk?mo=r&ad=-6NYlbfkN0CxQlKr4N-gxhxagYSfO_p3DjIG0Frhi5iauBS0K8YXNzGzMcydUX_0YQEo8_6BfjvWLAKxXosBqyrO1S-76AQcTRqkxrZukn8nf7Hxb0xpGi7ue0NaaBkho9k-O30MMGdarEQSH-mYKG6JBM7QTP2KPuF1V9QyrobUW_hNZf2LNkEMKN7WZpChNYFEY5tHep5YTX8Zm-WyNcnPLuIZpEHWOwJky1YbIVMLpv6iRsOltD9t6MC-yN5BfvL2-zi2CtcxV82CWQOHXUo3nKL_U2Nj6-OrhphPmo9vf3eQBCNBZ6hFrsRSoPHp0_kj92dB69QtVTzhdfD3aeyNYcNehwM2AZTRd_GE-oejzH4z16zZNstgqmFvdXD_HqOi_o09wNsR3bDKA40fuBt2RwvgKQYIodzTB8N4MvwCEbH9EYirC_Z-FPIARxH_y8EeXEESNJEVMqMejSdvrEsCz9Et-s2qrKYKpADpMsGGU41gafS56zaxmy6tEdE3HcYmpJBAkt-Di9z3uuF_TnfjQ5GR0wKxKjDBnJCmgKzUNvjjsy1MlN-3qrL30BxCzGf58OjUyjMUzzsrGyK05MwMtalIs4sm&p=0&fvj=0&vjs=3']"
      ]
     },
     "execution_count": 18,
     "metadata": {},
     "output_type": "execute_result"
    }
   ],
   "source": [
    "links"
   ]
  },
  {
   "cell_type": "code",
   "execution_count": null,
   "id": "eb54a24d",
   "metadata": {},
   "outputs": [],
   "source": []
  },
  {
   "cell_type": "code",
   "execution_count": null,
   "id": "05b1df3c",
   "metadata": {},
   "outputs": [],
   "source": []
  },
  {
   "cell_type": "code",
   "execution_count": null,
   "id": "bca9af27",
   "metadata": {},
   "outputs": [],
   "source": []
  }
 ],
 "metadata": {
  "kernelspec": {
   "display_name": "Python 3",
   "language": "python",
   "name": "python3"
  },
  "language_info": {
   "codemirror_mode": {
    "name": "ipython",
    "version": 3
   },
   "file_extension": ".py",
   "mimetype": "text/x-python",
   "name": "python",
   "nbconvert_exporter": "python",
   "pygments_lexer": "ipython3",
   "version": "3.8.8"
  }
 },
 "nbformat": 4,
 "nbformat_minor": 5
}
