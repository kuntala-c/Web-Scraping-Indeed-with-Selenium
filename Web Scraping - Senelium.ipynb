{
 "cells": [
  {
   "cell_type": "code",
   "execution_count": 4,
   "id": "dbd248b4",
   "metadata": {},
   "outputs": [],
   "source": [
    "# Import necessary library\n",
    "\n",
    "from selenium.webdriver.common.by import By\n",
    "from selenium import webdriver\n",
    "from selenium.webdriver.common.keys import Keys\n",
    "from selenium.webdriver.support.ui import WebDriverWait\n",
    "from selenium.webdriver.support import expected_conditions as EC\n",
    "from webdriver_manager.chrome import ChromeDriverManager\n",
    "from selenium import webdriver\n",
    "from selenium.webdriver.chrome.options import Options\n",
    "\n",
    "#specify driver path\n",
    "#DRIVER_PATH = r'C:\\Users\\khoip\\AppData\\Local\\Google\\Chrome\\User Data\\Default\\chromedriver'\n",
    "#driver = webdriver.Chrome(executable_path = DRIVER_PATH)\n",
    "#driver = webdriver.Chrome(ChromeDriverManager().install())\n"
   ]
  },
  {
   "cell_type": "code",
   "execution_count": 5,
   "id": "473f9495",
   "metadata": {},
   "outputs": [
    {
     "name": "stderr",
     "output_type": "stream",
     "text": [
      "<ipython-input-5-6a112e6e1836>:6: DeprecationWarning: executable_path has been deprecated, please pass in a Service object\n",
      "  driver = webdriver.Chrome(chrome_options=options, executable_path=r'C:\\Users\\khoip\\AppData\\Local\\Google\\Chrome\\User Data\\Default\\chromedriver.exe')\n",
      "<ipython-input-5-6a112e6e1836>:6: DeprecationWarning: use options instead of chrome_options\n",
      "  driver = webdriver.Chrome(chrome_options=options, executable_path=r'C:\\Users\\khoip\\AppData\\Local\\Google\\Chrome\\User Data\\Default\\chromedriver.exe')\n"
     ]
    },
    {
     "name": "stdout",
     "output_type": "stream",
     "text": [
      "Page Title is : Data Scientist Jobs in London - 2021 | Indeed.com\n"
     ]
    }
   ],
   "source": [
    "# clarify path and create driver\n",
    "# launch page to check if it works\n",
    "\n",
    "options = Options()\n",
    "options.add_argument(\"start-maximized\")\n",
    "driver = webdriver.Chrome(chrome_options=options, executable_path=r'C:\\Users\\khoip\\AppData\\Local\\Google\\Chrome\\User Data\\Default\\chromedriver.exe')\n",
    "driver.get('https://uk.indeed.com/jobs?q=data+scientist&l=London,+Greater+London&start=0')\n",
    "print(\"Page Title is : %s\" %driver.title)"
   ]
  },
  {
   "cell_type": "code",
   "execution_count": null,
   "id": "c8292949",
   "metadata": {},
   "outputs": [
    {
     "name": "stderr",
     "output_type": "stream",
     "text": [
      "<ipython-input-6-10451f0a34c2>:15: DeprecationWarning: find_elements_by_* commands are deprecated. Please use find_elements() instead\n",
      "  job_card = driver.find_elements_by_xpath('//div[contains(@class,\"job_seen_beacon\")]')\n"
     ]
    }
   ],
   "source": [
    "#let the driver wait 3 seconds to locate the element before exiting out\n",
    "driver.implicitly_wait(3) \n",
    "\n",
    "titles=[]\n",
    "companies=[]\n",
    "locations=[]\n",
    "links =[]\n",
    "reviews=[]\n",
    "salaries = []\n",
    "descriptions=[]\n",
    "\n",
    "\n",
    "for i in range(0,20):\n",
    "    \n",
    "    job_card = driver.find_elements_by_xpath('//div[contains(@class,\"job_seen_beacon\")]')\n",
    "\n",
    "    for job in job_card:\n",
    "        try:\n",
    "            location = job.find_element_by_xpath('.//div[contains(@class,\"companyLocation\")]').text\n",
    "        except:\n",
    "            location = \"None\"\n",
    "    #.  tells only to look at the element       \n",
    "        locations.append(location)\n",
    "        \n",
    "        try:\n",
    "            title  = job.find_element_by_xpath('.//h2[@class=\"jobTitle jobTitle-color-purple jobTitle-newJob\"]').text\n",
    "        except:\n",
    "            title = job.find_element_by_xpath('.//h2[@class=\"jobTitle jobTitle-color-purple\"]').text\n",
    "        titles.append(title)\n",
    "        \n",
    "\n"
   ]
  },
  {
   "cell_type": "code",
   "execution_count": null,
   "id": "3d4fb335",
   "metadata": {},
   "outputs": [],
   "source": [
    "titles"
   ]
  },
  {
   "cell_type": "code",
   "execution_count": null,
   "id": "25240614",
   "metadata": {},
   "outputs": [],
   "source": []
  }
 ],
 "metadata": {
  "kernelspec": {
   "display_name": "Python 3",
   "language": "python",
   "name": "python3"
  },
  "language_info": {
   "codemirror_mode": {
    "name": "ipython",
    "version": 3
   },
   "file_extension": ".py",
   "mimetype": "text/x-python",
   "name": "python",
   "nbconvert_exporter": "python",
   "pygments_lexer": "ipython3",
   "version": "3.8.8"
  }
 },
 "nbformat": 4,
 "nbformat_minor": 5
}
