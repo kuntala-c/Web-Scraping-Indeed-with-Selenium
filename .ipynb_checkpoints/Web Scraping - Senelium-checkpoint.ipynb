{
 "cells": [
  {
   "cell_type": "code",
   "execution_count": 1,
   "id": "dbd248b4",
   "metadata": {},
   "outputs": [],
   "source": [
    "# Import necessary library\n",
    "\n",
    "from selenium.webdriver.common.by import By\n",
    "from selenium import webdriver\n",
    "from selenium.webdriver.common.keys import Keys\n",
    "from selenium.webdriver.support.ui import WebDriverWait\n",
    "from selenium.webdriver.support import expected_conditions as EC\n",
    "from webdriver_manager.chrome import ChromeDriverManager\n",
    "from selenium import webdriver\n",
    "from selenium.webdriver.chrome.options import Options\n",
    "\n",
    "#specify driver path\n",
    "#DRIVER_PATH = r'C:\\Users\\khoip\\AppData\\Local\\Google\\Chrome\\User Data\\Default\\chromedriver'\n",
    "#driver = webdriver.Chrome(executable_path = DRIVER_PATH)\n",
    "#driver = webdriver.Chrome(ChromeDriverManager().install())\n"
   ]
  },
  {
   "cell_type": "code",
   "execution_count": 2,
   "id": "473f9495",
   "metadata": {},
   "outputs": [
    {
     "name": "stderr",
     "output_type": "stream",
     "text": [
      "<ipython-input-2-6a112e6e1836>:6: DeprecationWarning: executable_path has been deprecated, please pass in a Service object\n",
      "  driver = webdriver.Chrome(chrome_options=options, executable_path=r'C:\\Users\\khoip\\AppData\\Local\\Google\\Chrome\\User Data\\Default\\chromedriver.exe')\n",
      "<ipython-input-2-6a112e6e1836>:6: DeprecationWarning: use options instead of chrome_options\n",
      "  driver = webdriver.Chrome(chrome_options=options, executable_path=r'C:\\Users\\khoip\\AppData\\Local\\Google\\Chrome\\User Data\\Default\\chromedriver.exe')\n"
     ]
    },
    {
     "name": "stdout",
     "output_type": "stream",
     "text": [
      "Page Title is : Data Scientist Jobs in London - 2021 | Indeed.com\n"
     ]
    }
   ],
   "source": [
    "# clarify path and create driver\n",
    "# launch page to check if it works\n",
    "\n",
    "options = Options()\n",
    "options.add_argument(\"start-maximized\")\n",
    "driver = webdriver.Chrome(chrome_options=options, executable_path=r'C:\\Users\\khoip\\AppData\\Local\\Google\\Chrome\\User Data\\Default\\chromedriver.exe')\n",
    "driver.get('https://uk.indeed.com/jobs?q=data+scientist&l=London,+Greater+London&start=0')\n",
    "print(\"Page Title is : %s\" %driver.title)"
   ]
  },
  {
   "cell_type": "code",
   "execution_count": 43,
   "id": "c8292949",
   "metadata": {
    "scrolled": true
   },
   "outputs": [
    {
     "name": "stderr",
     "output_type": "stream",
     "text": [
      "<ipython-input-43-7b1c7e16f818>:13: DeprecationWarning: find_elements_by_* commands are deprecated. Please use find_elements() instead\n",
      "  job_card = driver.find_elements_by_xpath('//div[contains(@class,\"job_seen_beacon\")]')\n"
     ]
    }
   ],
   "source": [
    "#let the driver wait 3 seconds to locate the element before exiting out\n",
    "driver.implicitly_wait(3) \n",
    "\n",
    "titles=[]\n",
    "companies=[]\n",
    "locations=[]\n",
    "salaries = []\n",
    "descriptions=[]\n",
    "\n",
    "job_list=[]\n",
    "\n",
    "for i in range(0,2):\n",
    "    job_card = driver.find_elements_by_xpath('//div[contains(@class,\"job_seen_beacon\")]')\n",
    "\n",
    "    for job in job_card:          \n",
    "        \n",
    "        try: #.  Title \n",
    "            title  = job.find_element_by_tag_name('span').text\n",
    "            if title=='new':\n",
    "                title.replace('new','')\n",
    "        except:\n",
    "            title = \"None\"\n",
    "        titles.append(title)\n",
    "                      \n",
    "        try: #.  Location\n",
    "            location = job.find_element_by_xpath('.//div[contains(@class,\"companyLocation\")]').text\n",
    "        except:\n",
    "            location = \"None\"\n",
    "        #.  tells only to look at the element       \n",
    "        locations.append(location)\n",
    "\n",
    "        try: #salary \n",
    "            salary= job.find_element_by_xpath('.//div[@class=\"salary-snippet\"]').text\n",
    "        except:\n",
    "            salary = \"Negotiable\"\n",
    "        salaries.append(salary)\n",
    "\n",
    "        try: #description\n",
    "            description = job.find_element_by_tag_name('li').text\n",
    "        except:\n",
    "            description = \"None\"\n",
    "        #.  tells only to look at the element   \n",
    "        descriptions.append(description)\n",
    "        \n",
    "    companies.append(job.find_element_by_xpath('.//span[@class=\"companyName\"]').text) #.  Company name\n",
    "    job={'titles':title,\n",
    "         'companies':company,\n",
    "         'locations':location,\n",
    "         'salaries':salary,\n",
    "         'descriptions':description\n",
    "        }\n",
    "    job_list.append(job)"
   ]
  },
  {
   "cell_type": "code",
   "execution_count": 34,
   "id": "9213bf45",
   "metadata": {},
   "outputs": [
    {
     "data": {
      "text/plain": [
       "[{'titles': 'Data Scientist, Personal Banking',\n",
       "  'companies': 'Monzo',\n",
       "  'locations': 'London\\n•\\nRemote',\n",
       "  'salaries': 'Negotiable',\n",
       "  'descriptions': '90% of day-to-day data-driven decisions are covered by self-serve analytics through Looker which gives data scientists the head space to focus on more impactful…'},\n",
       " {'titles': 'Data Scientist, Personal Banking',\n",
       "  'companies': 'Monzo',\n",
       "  'locations': 'London\\n•\\nRemote',\n",
       "  'salaries': 'Negotiable',\n",
       "  'descriptions': '90% of day-to-day data-driven decisions are covered by self-serve analytics through Looker which gives data scientists the head space to focus on more impactful…'}]"
      ]
     },
     "execution_count": 34,
     "metadata": {},
     "output_type": "execute_result"
    }
   ],
   "source": [
    "job_list"
   ]
  },
  {
   "cell_type": "code",
   "execution_count": 35,
   "id": "95918667",
   "metadata": {},
   "outputs": [],
   "source": [
    "import pandas as pd\n",
    "df=pd.DataFrame(job_list)\n"
   ]
  },
  {
   "cell_type": "code",
   "execution_count": 36,
   "id": "dcd62a4a",
   "metadata": {},
   "outputs": [
    {
     "data": {
      "text/html": [
       "<div>\n",
       "<style scoped>\n",
       "    .dataframe tbody tr th:only-of-type {\n",
       "        vertical-align: middle;\n",
       "    }\n",
       "\n",
       "    .dataframe tbody tr th {\n",
       "        vertical-align: top;\n",
       "    }\n",
       "\n",
       "    .dataframe thead th {\n",
       "        text-align: right;\n",
       "    }\n",
       "</style>\n",
       "<table border=\"1\" class=\"dataframe\">\n",
       "  <thead>\n",
       "    <tr style=\"text-align: right;\">\n",
       "      <th></th>\n",
       "      <th>titles</th>\n",
       "      <th>companies</th>\n",
       "      <th>locations</th>\n",
       "      <th>salaries</th>\n",
       "      <th>descriptions</th>\n",
       "    </tr>\n",
       "  </thead>\n",
       "  <tbody>\n",
       "    <tr>\n",
       "      <th>0</th>\n",
       "      <td>Data Scientist, Personal Banking</td>\n",
       "      <td>Monzo</td>\n",
       "      <td>London\\n•\\nRemote</td>\n",
       "      <td>Negotiable</td>\n",
       "      <td>90% of day-to-day data-driven decisions are co...</td>\n",
       "    </tr>\n",
       "    <tr>\n",
       "      <th>1</th>\n",
       "      <td>Data Scientist, Personal Banking</td>\n",
       "      <td>Monzo</td>\n",
       "      <td>London\\n•\\nRemote</td>\n",
       "      <td>Negotiable</td>\n",
       "      <td>90% of day-to-day data-driven decisions are co...</td>\n",
       "    </tr>\n",
       "  </tbody>\n",
       "</table>\n",
       "</div>"
      ],
      "text/plain": [
       "                             titles companies          locations    salaries  \\\n",
       "0  Data Scientist, Personal Banking     Monzo  London\\n•\\nRemote  Negotiable   \n",
       "1  Data Scientist, Personal Banking     Monzo  London\\n•\\nRemote  Negotiable   \n",
       "\n",
       "                                        descriptions  \n",
       "0  90% of day-to-day data-driven decisions are co...  \n",
       "1  90% of day-to-day data-driven decisions are co...  "
      ]
     },
     "execution_count": 36,
     "metadata": {},
     "output_type": "execute_result"
    }
   ],
   "source": [
    "df"
   ]
  },
  {
   "cell_type": "code",
   "execution_count": 32,
   "id": "a0ef9cc6",
   "metadata": {},
   "outputs": [
    {
     "data": {
      "text/plain": [
       "['new',\n",
       " 'new',\n",
       " 'Data & Analytics - Internship',\n",
       " 'Research Data Scientist, Intern',\n",
       " 'Multiple Data Scientist/Senior Analyst roles (SQL or Tableau...',\n",
       " 'Python Data Scientist (WFH 3 days a week)',\n",
       " 'Data Scientist, Analytics Intern',\n",
       " 'new',\n",
       " 'new',\n",
       " 'new',\n",
       " 'new',\n",
       " 'new',\n",
       " 'Machine Learning Engineer Graduate (Recommendation) - 2022 S...',\n",
       " 'Data Scientist',\n",
       " 'Data Scientist, Personal Banking',\n",
       " 'new',\n",
       " 'new',\n",
       " 'Data & Analytics - Internship',\n",
       " 'Research Data Scientist, Intern',\n",
       " 'Multiple Data Scientist/Senior Analyst roles (SQL or Tableau...',\n",
       " 'Python Data Scientist (WFH 3 days a week)',\n",
       " 'Data Scientist, Analytics Intern',\n",
       " 'new',\n",
       " 'new',\n",
       " 'new',\n",
       " 'new',\n",
       " 'new',\n",
       " 'Machine Learning Engineer Graduate (Recommendation) - 2022 S...',\n",
       " 'Data Scientist',\n",
       " 'Data Scientist, Personal Banking']"
      ]
     },
     "execution_count": 32,
     "metadata": {},
     "output_type": "execute_result"
    }
   ],
   "source": [
    "titles"
   ]
  },
  {
   "cell_type": "code",
   "execution_count": 14,
   "id": "2e63ae7d",
   "metadata": {},
   "outputs": [
    {
     "data": {
      "text/plain": [
       "['Negotiable',\n",
       " 'From £55,000 a year',\n",
       " '£21,500 a year',\n",
       " 'Negotiable',\n",
       " '£45,900 - £59,400 a year',\n",
       " 'Negotiable',\n",
       " 'Negotiable',\n",
       " '£54,223 - £60,316 a year',\n",
       " '£45,900 - £55,000 a year',\n",
       " 'Negotiable',\n",
       " '£35,000 - £45,000 a year',\n",
       " 'Negotiable',\n",
       " 'Negotiable',\n",
       " 'Negotiable',\n",
       " 'Negotiable']"
      ]
     },
     "execution_count": 14,
     "metadata": {},
     "output_type": "execute_result"
    }
   ],
   "source": [
    "salaries"
   ]
  },
  {
   "cell_type": "code",
   "execution_count": 44,
   "id": "3eea352a",
   "metadata": {},
   "outputs": [
    {
     "data": {
      "text/plain": [
       "['Monzo', 'Monzo']"
      ]
     },
     "execution_count": 44,
     "metadata": {},
     "output_type": "execute_result"
    }
   ],
   "source": [
    "companies"
   ]
  },
  {
   "cell_type": "code",
   "execution_count": null,
   "id": "1ee53a8d",
   "metadata": {},
   "outputs": [],
   "source": []
  }
 ],
 "metadata": {
  "kernelspec": {
   "display_name": "Python 3",
   "language": "python",
   "name": "python3"
  },
  "language_info": {
   "codemirror_mode": {
    "name": "ipython",
    "version": 3
   },
   "file_extension": ".py",
   "mimetype": "text/x-python",
   "name": "python",
   "nbconvert_exporter": "python",
   "pygments_lexer": "ipython3",
   "version": "3.8.8"
  }
 },
 "nbformat": 4,
 "nbformat_minor": 5
}
